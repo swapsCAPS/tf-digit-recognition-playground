{
 "cells": [
  {
   "cell_type": "code",
   "execution_count": null,
   "id": "17efa5f5-4991-4a3d-a90e-d89c349ad56b",
   "metadata": {},
   "outputs": [],
   "source": [
    "import numpy as np\n",
    "from glob import glob\n",
    "import matplotlib.pyplot as plt\n",
    "import os\n",
    "import cv2\n",
    "import math\n",
    "import utils\n"
   ]
  },
  {
   "cell_type": "code",
   "execution_count": null,
   "id": "4f05496c-be1b-4cd5-b3ce-f3f6087f34a5",
   "metadata": {
    "tags": []
   },
   "outputs": [],
   "source": [
    "# for i in range(0, 121):\n",
    "#     if (i % 2 != 0): continue\n",
    "#     filename = f\"/home/dan/Downloads/poule-pngs/poule-{i:03}.png\"\n",
    "#     print(filename)\n",
    "#     orig = cv2.imread(filename, cv2.IMREAD_UNCHANGED)\n",
    "\n",
    "#     try:\n",
    "#         utils.straighten_page(\n",
    "#             orig, \n",
    "#             debug=True, \n",
    "#             pad=200, \n",
    "#             max_line_height=300,\n",
    "#         )\n",
    "#     except:\n",
    "#         print"
   ]
  },
  {
   "cell_type": "code",
   "execution_count": null,
   "id": "64ea3e46-4d02-46b4-85f2-8f2fb554a7d8",
   "metadata": {},
   "outputs": [],
   "source": []
  }
 ],
 "metadata": {
  "kernelspec": {
   "display_name": "Python 3 (ipykernel)",
   "language": "python",
   "name": "python3"
  },
  "language_info": {
   "codemirror_mode": {
    "name": "ipython",
    "version": 3
   },
   "file_extension": ".py",
   "mimetype": "text/x-python",
   "name": "python",
   "nbconvert_exporter": "python",
   "pygments_lexer": "ipython3",
   "version": "3.8.10"
  }
 },
 "nbformat": 4,
 "nbformat_minor": 5
}
